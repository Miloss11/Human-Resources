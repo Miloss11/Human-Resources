{
 "cells": [
  {
   "cell_type": "markdown",
   "id": "aff6414b",
   "metadata": {},
   "source": [
    "## 1. Setup & Libraries\n",
    "Import necessary libraries for data analysis, visualization, preprocessing, and modeling.\n"
   ]
  },
  {
   "cell_type": "code",
   "execution_count": null,
   "id": "19f57cfc",
   "metadata": {},
   "outputs": [],
   "source": [
    "\n",
    "# 1. Setup & Libraries\n",
    "import pandas as pd\n",
    "import numpy as np\n",
    "import matplotlib.pyplot as plt\n",
    "import seaborn as sns\n",
    "\n",
    "from sklearn.model_selection import train_test_split\n",
    "from sklearn.preprocessing import StandardScaler\n",
    "from sklearn.preprocessing import OneHotEncoder\n",
    "from sklearn.compose import ColumnTransformer\n",
    "from sklearn.pipeline import Pipeline\n",
    "from sklearn.metrics import accuracy_score, precision_score, recall_score, f1_score, confusion_matrix, ConfusionMatrixDisplay\n",
    "from sklearn.ensemble import RandomForestClassifier\n",
    "from sklearn.linear_model import LogisticRegression\n",
    "from imblearn.over_sampling import SMOTE\n",
    "\n",
    "sns.set_style('whitegrid')\n",
    "pd.set_option('display.max_columns', None)\n"
   ]
  },
  {
   "cell_type": "markdown",
   "id": "bf38e385",
   "metadata": {},
   "source": [
    "## 2. Data Loading\n",
    "Load the cleaned HR Employee Attrition dataset and inspect basic info, data types, and target distribution.\n"
   ]
  },
  {
   "cell_type": "code",
   "execution_count": null,
   "id": "b8fe9529",
   "metadata": {},
   "outputs": [],
   "source": [
    "\n",
    "# 2. Data Loading\n",
    "\n",
    "data_path = \"../data/HR-Employee-Attrition_cleaned.csv\"\n",
    "df = pd.read_csv(data_path)\n",
    "\n",
    "# Quick overview\n",
    "print(df.head())\n",
    "print(df.info())\n",
    "print(df['Attrition'].value_counts())\n"
   ]
  },
  {
   "cell_type": "markdown",
   "id": "db131023",
   "metadata": {},
   "source": [
    "## 3. Data Cleaning & Preprocessing\n",
    "- Check for missing values and duplicates.  \n",
    "- Encode the target variable `Attrition` (Yes → 1, No → 0).  \n",
    "- Identify categorical and numerical features for preprocessing."
   ]
  },
  {
   "cell_type": "code",
   "execution_count": null,
   "id": "d348dc3a",
   "metadata": {},
   "outputs": [],
   "source": [
    "# 3. Data Cleaning & Preprocessing\n",
    "\n",
    "# Check for missing values\n",
    "print(df.isna().sum())\n",
    "\n",
    "# Remove duplicates if any\n",
    "df.drop_duplicates(inplace=True)\n",
    "\n",
    "# Encode target variable\n",
    "df['Attrition'] = df['Attrition'].map({'Yes':1, 'No':0})\n",
    "\n",
    "# Identify categorical and numerical columns\n",
    "categorical_cols = df.select_dtypes(include=['object']).columns.tolist()\n",
    "numerical_cols = df.select_dtypes(include=['int64','float64']).columns.tolist()\n",
    "numerical_cols.remove('Attrition')  # remove target from features\n"
   ]
  },
  {
   "cell_type": "markdown",
   "id": "6f2b3d2b",
   "metadata": {},
   "source": [
    "## 4. Exploratory Data Analysis (EDA)\n",
    "- Visualize the distribution of the target variable.  \n",
    "- Compare attrition across categorical features (e.g., OverTime).  \n",
    "- Compute and plot correlation matrix to identify relationships between features."
   ]
  },
  {
   "cell_type": "code",
   "execution_count": null,
   "id": "648a6858",
   "metadata": {},
   "outputs": [],
   "source": [
    "# 4. Exploratory Data Analysis (EDA)\n",
    "\n",
    "# Attrition distribution\n",
    "sns.countplot(x='Attrition', data=df)\n",
    "plt.title('Attrition Distribution')\n",
    "plt.show()\n",
    "\n",
    "# Example: Attrition by OverTime\n",
    "sns.countplot(x='OverTime', hue='Attrition', data=df)\n",
    "plt.title('Attrition by OverTime')\n",
    "plt.show()\n",
    "\n",
    "# Correlation heatmap\n",
    "plt.figure(figsize=(12,10))\n",
    "sns.heatmap(df.corr(), annot=True, fmt=\".2f\", cmap='coolwarm')\n",
    "plt.title('Correlation Matrix')\n",
    "plt.show()\n",
    "\n"
   ]
  },
  {
   "cell_type": "markdown",
   "id": "1fe667ce",
   "metadata": {},
   "source": [
    "## 5. Feature Engineering\n",
    "- Example: High-risk employee profile based on `OverTime`, `JobSatisfaction`, and `YearsAtCompany`.  \n",
    "- Optional: Additional features can be created based on domain knowledge.\n"
   ]
  },
  {
   "cell_type": "code",
   "execution_count": null,
   "id": "0c0faf50",
   "metadata": {},
   "outputs": [],
   "source": [
    "\n",
    "# 5. Feature Engineering\n",
    "\n",
    "# Example: Creating high risk feature\n",
    "df['HighRiskProfile'] = ((df['OverTime']=='Yes') & \n",
    "                         (df['JobSatisfaction']<=2) & \n",
    "                         (df['YearsAtCompany']<3)).astype(int)\n",
    "\n"
   ]
  },
  {
   "cell_type": "markdown",
   "id": "cb7023fd",
   "metadata": {},
   "source": [
    "## 6. Modeling\n",
    "- Split data into train and test sets (stratified by target).  \n",
    "- Preprocess features: StandardScaler for numerical, OneHotEncoder for categorical.  \n",
    "- Apply SMOTE to balance the training set.  \n",
    "- Train models:\n",
    "  - Logistic Regression\n",
    "  - Random Forest  \n",
    "- Evaluate using Accuracy, Precision, Recall, F1-score, and Confusion Matrix.\n"
   ]
  },
  {
   "cell_type": "code",
   "execution_count": null,
   "id": "b3783d05",
   "metadata": {},
   "outputs": [],
   "source": [
    "\n",
    "# 6. Modeling\n",
    "\n",
    "X = df.drop('Attrition', axis=1)\n",
    "y = df['Attrition']\n",
    "\n",
    "# Split dataset\n",
    "X_train, X_test, y_train, y_test = train_test_split(X, y, test_size=0.2, random_state=42, stratify=y)\n",
    "\n",
    "# Preprocessing pipeline\n",
    "preprocessor = ColumnTransformer(\n",
    "    transformers=[\n",
    "        ('num', StandardScaler(), numerical_cols),\n",
    "        ('cat', OneHotEncoder(handle_unknown='ignore'), categorical_cols)\n",
    "    ])\n",
    "\n",
    "# Apply SMOTE to balance classes\n",
    "X_train_enc = preprocessor.fit_transform(X_train)\n",
    "sm = SMOTE(random_state=42)\n",
    "X_train_bal, y_train_bal = sm.fit_resample(X_train_enc, y_train)\n",
    "\n",
    "X_test_enc = preprocessor.transform(X_test)\n",
    "\n",
    "# Initialize models\n",
    "models = {\n",
    "    'LogisticRegression': LogisticRegression(max_iter=1000, random_state=42),\n",
    "    'RandomForest': RandomForestClassifier(n_estimators=100, random_state=42)\n",
    "}\n",
    "\n",
    "# Train and evaluate\n",
    "for name, model in models.items():\n",
    "    model.fit(X_train_bal, y_train_bal)\n",
    "    y_pred = model.predict(X_test_enc)\n",
    "    print(f\"==== {name} ====\")\n",
    "    print(\"Accuracy:\", accuracy_score(y_test, y_pred))\n",
    "    print(\"Precision:\", precision_score(y_test, y_pred))\n",
    "    print(\"Recall:\", recall_score(y_test, y_pred))\n",
    "    print(\"F1 Score:\", f1_score(y_test, y_pred))\n",
    "    \n",
    "    cm = confusion_matrix(y_test, y_pred)\n",
    "    disp = ConfusionMatrixDisplay(confusion_matrix=cm)\n",
    "    disp.plot()\n",
    "    plt.title(f'Confusion Matrix - {name}')\n",
    "    plt.show()\n"
   ]
  },
  {
   "cell_type": "markdown",
   "id": "a3e27771",
   "metadata": {},
   "source": [
    "\n",
    "**Notes for Reviewers / Collaborators:**\n",
    "- The workflow is modular and reproducible.\n",
    "- SMOTE is applied only on the training set to prevent data leakage.\n",
    "- Preprocessing pipeline ensures categorical variables are correctly handled for future predictions.\n",
    "- Visualization sections can be expanded depending on stakeholder needs.\n"
   ]
  }
 ],
 "metadata": {
  "kernelspec": {
   "display_name": "Python 3",
   "language": "python",
   "name": "python3"
  },
  "language_info": {
   "codemirror_mode": {
    "name": "ipython",
    "version": 3
   },
   "file_extension": ".py",
   "mimetype": "text/x-python",
   "name": "python",
   "nbconvert_exporter": "python",
   "pygments_lexer": "ipython3",
   "version": "3.11.9"
  }
 },
 "nbformat": 4,
 "nbformat_minor": 5
}
